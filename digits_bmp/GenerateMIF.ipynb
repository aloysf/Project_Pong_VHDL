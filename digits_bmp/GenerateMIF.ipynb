{
 "cells": [
  {
   "cell_type": "code",
   "execution_count": 2,
   "id": "1c4b9585",
   "metadata": {},
   "outputs": [
    {
     "data": {
      "text/plain": [
       "'9bit_color_24bitbmp_160x120.bmp'"
      ]
     },
     "execution_count": 2,
     "metadata": {},
     "output_type": "execute_result"
    }
   ],
   "source": [
    "from PIL import Image\n",
    "\n",
    "# Create a 160x120 image with 9-bit color (3 bits R, 3 bits G, 3 bits B)\n",
    "width, height = 160, 120\n",
    "image = Image.new(\"RGB\", (width, height))\n",
    "\n",
    "# Generate 9-bit color pattern (3 bits per channel, scaled to 8-bit RGB)\n",
    "for x in range(width):\n",
    "    for y in range(height):\n",
    "        # Simulate 3-bit values for R, G, B (values from 0 to 7)\n",
    "        r_3bit = (x * 8) // width      # 0–7\n",
    "        g_3bit = (y * 8) // height     # 0–7\n",
    "        b_3bit = ((x + y) * 4) // (width + height)  # 0–7\n",
    "\n",
    "        # Scale 3-bit values to 8-bit (0–255)\n",
    "        r = int((r_3bit / 7) * 255)\n",
    "        g = int((g_3bit / 7) * 255)\n",
    "        b = int((b_3bit / 7) * 255)\n",
    "\n",
    "        image.putpixel((x, y), (r, g, b))\n",
    "\n",
    "# Save as 24-bit BMP\n",
    "output_path_9bit_color = \"9bit_color_24bitbmp_160x120.bmp\"\n",
    "image.save(output_path_9bit_color, \"BMP\")\n",
    "\n",
    "output_path_9bit_color\n"
   ]
  },
  {
   "cell_type": "code",
   "execution_count": 3,
   "id": "33e7fff0",
   "metadata": {},
   "outputs": [
    {
     "data": {
      "text/plain": [
       "'9bit_color_image_160x120.mif'"
      ]
     },
     "execution_count": 3,
     "metadata": {},
     "output_type": "execute_result"
    }
   ],
   "source": [
    "from PIL import Image\n",
    "import numpy as np\n",
    "\n",
    "# Parameters\n",
    "width, height = 160, 120\n",
    "mif_depth = width * height  # total pixels\n",
    "mif_width = 9               # 9-bit color\n",
    "\n",
    "# Simulate a 9-bit color image (3 bits per channel)\n",
    "data = []\n",
    "for y in range(height):\n",
    "    for x in range(width):\n",
    "        r = (x * 8) // width      # 0-7\n",
    "        g = (y * 8) // height     # 0-7\n",
    "        b = ((x + y) * 4) // (width + height)  # 0-7\n",
    "        pixel_9bit = (r << 6) | (g << 3) | b   # RRR GGG BBB packed\n",
    "        data.append(pixel_9bit)\n",
    "\n",
    "# Generate MIF content\n",
    "mif_lines = [\n",
    "    f\"DEPTH = {mif_depth};\",\n",
    "    f\"WIDTH = {mif_width};\",\n",
    "    \"ADDRESS_RADIX = HEX;\",\n",
    "    \"DATA_RADIX = BIN;\",\n",
    "    \"CONTENT\",\n",
    "    \"BEGIN\"\n",
    "]\n",
    "\n",
    "for addr, value in enumerate(data):\n",
    "    mif_lines.append(f\"{addr:X} : {value:09b};\")\n",
    "\n",
    "mif_lines.append(\"END;\")\n",
    "\n",
    "# Save to file\n",
    "mif_path = \"9bit_color_image_160x120.mif\"\n",
    "with open(mif_path, \"w\") as f:\n",
    "    f.write(\"\\n\".join(mif_lines))\n",
    "\n",
    "mif_path\n"
   ]
  },
  {
   "cell_type": "code",
   "execution_count": 4,
   "id": "b83fcde7",
   "metadata": {},
   "outputs": [],
   "source": [
    "from PIL import Image\n",
    "\n",
    "# Load and resize image\n",
    "for i in range(10):\n",
    "    img = Image.open(f\"digit_{i}.bmp\").resize((55, 75))\n",
    "    img = img.convert(\"RGB\")\n",
    "\n",
    "    # Parameters\n",
    "    width, height = img.size\n",
    "    depth = width * height\n",
    "    mif_width = 9\n",
    "    mif_lines = [\n",
    "        f\"DEPTH = {depth};\",\n",
    "        f\"WIDTH = {mif_width};\",\n",
    "        \"ADDRESS_RADIX = HEX;\",\n",
    "        \"DATA_RADIX = BIN;\",\n",
    "        \"CONTENT\",\n",
    "        \"BEGIN\"\n",
    "    ]\n",
    "\n",
    "    # Convert to 9-bit color (3 bits per channel)\n",
    "    address = 0\n",
    "    for y in range(height):\n",
    "        for x in range(width):\n",
    "            r, g, b = img.getpixel((x, y))\n",
    "            r3 = r >> 5  # 3 MSBs of 8-bit value\n",
    "            g3 = g >> 5\n",
    "            b3 = b >> 5\n",
    "            color9 = (r3 << 6) | (g3 << 3) | b3\n",
    "            mif_lines.append(f\"{address:X} : {color9:09b};\")\n",
    "            address += 1\n",
    "\n",
    "    mif_lines.append(\"END;\")\n",
    "\n",
    "    # Save .mif file\n",
    "    with open(f\"digit_{i}.mif\", \"w\") as f:\n",
    "        f.write(\"\\n\".join(mif_lines))\n"
   ]
  },
  {
   "cell_type": "code",
   "execution_count": null,
   "id": "2167678a",
   "metadata": {},
   "outputs": [],
   "source": []
  }
 ],
 "metadata": {
  "kernelspec": {
   "display_name": "py39",
   "language": "python",
   "name": "python3"
  },
  "language_info": {
   "codemirror_mode": {
    "name": "ipython",
    "version": 3
   },
   "file_extension": ".py",
   "mimetype": "text/x-python",
   "name": "python",
   "nbconvert_exporter": "python",
   "pygments_lexer": "ipython3",
   "version": "3.9.20"
  }
 },
 "nbformat": 4,
 "nbformat_minor": 5
}
